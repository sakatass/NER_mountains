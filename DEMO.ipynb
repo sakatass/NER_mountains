{
  "nbformat": 4,
  "nbformat_minor": 0,
  "metadata": {
    "colab": {
      "provenance": [],
      "gpuType": "T4"
    },
    "kernelspec": {
      "name": "python3",
      "display_name": "Python 3"
    },
    "language_info": {
      "name": "python"
    },
    "accelerator": "GPU"
  },
  "cells": [
    {
      "cell_type": "markdown",
      "source": [
        "### For custom NER we need to label and annotate our text data. In this solution we will use a free open source tool called \"NER Annotator for Spacy\", which is a good alternative to Doccano and Prodigy.\n",
        "\n"
      ],
      "metadata": {
        "id": "JuKAijuNlNrX"
      }
    },
    {
      "cell_type": "markdown",
      "source": [
        "##### NER Annotator - https://tecoholic.github.io/ner-annotator/\n",
        "##### Model weights - https://drive.google.com/drive/folders/11Gay0NXj9IRf8Jb-Don_yp9UhWH46t8x"
      ],
      "metadata": {
        "id": "HtpQu1uxmG_V"
      }
    },
    {
      "cell_type": "markdown",
      "source": [
        "### Example 1"
      ],
      "metadata": {
        "id": "18AbT3jcmUP-"
      }
    },
    {
      "cell_type": "code",
      "source": [
        "import spacy\n",
        "from spacy import displacy\n",
        "nlp_ner = spacy.load(\"model-best\")\n",
        "\n",
        "doc = nlp_ner(\"\"\"\n",
        "Far from the well-trodden paths, Mount Fitz Roy in the remote Patagonian Andes silently stands as a testament to nature's raw beauty, with its jagged peaks, pristine glaciers, and remote wilderness, inviting those seeking solitude and untamed landscapes to embark on an off-the-beaten-path adventure\n",
        "\"\"\")\n",
        "displacy.render(doc, style=\"ent\", jupyter=True)\n",
        "\n"
      ],
      "metadata": {
        "colab": {
          "base_uri": "https://localhost:8080/",
          "height": 157
        },
        "id": "kMT55esNmur0",
        "outputId": "87bcd62b-1e03-4439-f08f-1339acd07484"
      },
      "execution_count": 1,
      "outputs": [
        {
          "output_type": "display_data",
          "data": {
            "text/plain": [
              "<IPython.core.display.HTML object>"
            ],
            "text/html": [
              "<span class=\"tex2jax_ignore\"><div class=\"entities\" style=\"line-height: 2.5; direction: ltr\"><br>Far from the well-trodden paths, Mount \n",
              "<mark class=\"entity\" style=\"background: #ddd; padding: 0.45em 0.6em; margin: 0 0.25em; line-height: 1; border-radius: 0.35em;\">\n",
              "    Fitz Roy\n",
              "    <span style=\"font-size: 0.8em; font-weight: bold; line-height: 1; border-radius: 0.35em; vertical-align: middle; margin-left: 0.5rem\">MOUNTAIN</span>\n",
              "</mark>\n",
              " in the remote \n",
              "<mark class=\"entity\" style=\"background: #ddd; padding: 0.45em 0.6em; margin: 0 0.25em; line-height: 1; border-radius: 0.35em;\">\n",
              "    Patagonian\n",
              "    <span style=\"font-size: 0.8em; font-weight: bold; line-height: 1; border-radius: 0.35em; vertical-align: middle; margin-left: 0.5rem\">MOUNTAIN</span>\n",
              "</mark>\n",
              " \n",
              "<mark class=\"entity\" style=\"background: #ddd; padding: 0.45em 0.6em; margin: 0 0.25em; line-height: 1; border-radius: 0.35em;\">\n",
              "    Andes\n",
              "    <span style=\"font-size: 0.8em; font-weight: bold; line-height: 1; border-radius: 0.35em; vertical-align: middle; margin-left: 0.5rem\">MOUNTAIN</span>\n",
              "</mark>\n",
              " silently stands as a testament to nature's raw beauty, with its jagged peaks, pristine glaciers, and remote wilderness, inviting those seeking solitude and untamed landscapes to embark on an off-the-beaten-path adventure<br></div></span>"
            ]
          },
          "metadata": {}
        }
      ]
    },
    {
      "cell_type": "markdown",
      "source": [
        "Although the training dataset was small, the model captures the context and correctly identifies the target class"
      ],
      "metadata": {
        "id": "PaLeQh4FnMZk"
      }
    },
    {
      "cell_type": "markdown",
      "source": [
        "### Example 2"
      ],
      "metadata": {
        "id": "0FrjXM9Vn0P6"
      }
    },
    {
      "cell_type": "code",
      "source": [
        "import spacy\n",
        "from spacy import displacy\n",
        "nlp_ner = spacy.load(\"model-best\")\n",
        "\n",
        "doc = nlp_ner(\"\"\"\n",
        "The towering peaks of the Himalayas, including Mount Everest, the world's highest mountain, attract adventurous mountaineers from around the globe. The Rocky Mountains in North America boast breathtaking landscapes, with rugged summits and picturesque alpine meadows. In the Andes of South America, iconic peaks like Aconcagua stand as testaments to the region's natural beauty. The Swiss Alps are renowned for their majestic snow-covered peaks and world-class ski resorts, making them a popular destination for winter sports enthusiasts.\n",
        "\"\"\")\n",
        "displacy.render(doc, style=\"ent\", jupyter=True)\n",
        "\n"
      ],
      "metadata": {
        "colab": {
          "base_uri": "https://localhost:8080/",
          "height": 192
        },
        "id": "nGp4ZAAyoFBq",
        "outputId": "56ecbeb9-4a11-4dd9-c116-ada0ac2c98d1"
      },
      "execution_count": 2,
      "outputs": [
        {
          "output_type": "display_data",
          "data": {
            "text/plain": [
              "<IPython.core.display.HTML object>"
            ],
            "text/html": [
              "<span class=\"tex2jax_ignore\"><div class=\"entities\" style=\"line-height: 2.5; direction: ltr\"><br>The towering peaks of the \n",
              "<mark class=\"entity\" style=\"background: #ddd; padding: 0.45em 0.6em; margin: 0 0.25em; line-height: 1; border-radius: 0.35em;\">\n",
              "    Himalayas\n",
              "    <span style=\"font-size: 0.8em; font-weight: bold; line-height: 1; border-radius: 0.35em; vertical-align: middle; margin-left: 0.5rem\">MOUNTAIN</span>\n",
              "</mark>\n",
              ", including Mount \n",
              "<mark class=\"entity\" style=\"background: #ddd; padding: 0.45em 0.6em; margin: 0 0.25em; line-height: 1; border-radius: 0.35em;\">\n",
              "    Everest\n",
              "    <span style=\"font-size: 0.8em; font-weight: bold; line-height: 1; border-radius: 0.35em; vertical-align: middle; margin-left: 0.5rem\">MOUNTAIN</span>\n",
              "</mark>\n",
              ", the world's highest mountain, attract adventurous mountaineers from around the globe. The \n",
              "<mark class=\"entity\" style=\"background: #ddd; padding: 0.45em 0.6em; margin: 0 0.25em; line-height: 1; border-radius: 0.35em;\">\n",
              "    Rocky\n",
              "    <span style=\"font-size: 0.8em; font-weight: bold; line-height: 1; border-radius: 0.35em; vertical-align: middle; margin-left: 0.5rem\">MOUNTAIN</span>\n",
              "</mark>\n",
              " Mountains in North America boast breathtaking landscapes, with rugged summits and picturesque alpine meadows. In the \n",
              "<mark class=\"entity\" style=\"background: #ddd; padding: 0.45em 0.6em; margin: 0 0.25em; line-height: 1; border-radius: 0.35em;\">\n",
              "    Andes\n",
              "    <span style=\"font-size: 0.8em; font-weight: bold; line-height: 1; border-radius: 0.35em; vertical-align: middle; margin-left: 0.5rem\">MOUNTAIN</span>\n",
              "</mark>\n",
              " of South America, iconic peaks like \n",
              "<mark class=\"entity\" style=\"background: #ddd; padding: 0.45em 0.6em; margin: 0 0.25em; line-height: 1; border-radius: 0.35em;\">\n",
              "    Aconcagua\n",
              "    <span style=\"font-size: 0.8em; font-weight: bold; line-height: 1; border-radius: 0.35em; vertical-align: middle; margin-left: 0.5rem\">MOUNTAIN</span>\n",
              "</mark>\n",
              " stand as testaments to the region's natural beauty. The Swiss Alps are renowned for their majestic snow-covered peaks and world-class ski resorts, making them a popular destination for winter sports enthusiasts.<br></div></span>"
            ]
          },
          "metadata": {}
        }
      ]
    },
    {
      "cell_type": "markdown",
      "source": [
        "### Example 3"
      ],
      "metadata": {
        "id": "wNVjcnyboJHM"
      }
    },
    {
      "cell_type": "code",
      "source": [
        "import spacy\n",
        "from spacy import displacy\n",
        "nlp_ner = spacy.load(\"model-best\")\n",
        "\n",
        "doc = nlp_ner(\"\"\"\n",
        "Mont-Saint-Michel is a historic architectural structure, not a high mountain, but it can serve as an example to illustrate the use of a hyphen in a name.\n",
        "\"\"\")\n",
        "displacy.render(doc, style=\"ent\", jupyter=True)\n",
        "\n"
      ],
      "metadata": {
        "colab": {
          "base_uri": "https://localhost:8080/",
          "height": 122
        },
        "id": "-3wMe0ryo2q4",
        "outputId": "7b1b7df5-ab3c-4512-8edb-c550710825af"
      },
      "execution_count": 3,
      "outputs": [
        {
          "output_type": "display_data",
          "data": {
            "text/plain": [
              "<IPython.core.display.HTML object>"
            ],
            "text/html": [
              "<span class=\"tex2jax_ignore\"><div class=\"entities\" style=\"line-height: 2.5; direction: ltr\"><br>\n",
              "<mark class=\"entity\" style=\"background: #ddd; padding: 0.45em 0.6em; margin: 0 0.25em; line-height: 1; border-radius: 0.35em;\">\n",
              "    Mont-Saint\n",
              "    <span style=\"font-size: 0.8em; font-weight: bold; line-height: 1; border-radius: 0.35em; vertical-align: middle; margin-left: 0.5rem\">MOUNTAIN</span>\n",
              "</mark>\n",
              "-\n",
              "<mark class=\"entity\" style=\"background: #ddd; padding: 0.45em 0.6em; margin: 0 0.25em; line-height: 1; border-radius: 0.35em;\">\n",
              "    Michel is\n",
              "    <span style=\"font-size: 0.8em; font-weight: bold; line-height: 1; border-radius: 0.35em; vertical-align: middle; margin-left: 0.5rem\">MOUNTAIN</span>\n",
              "</mark>\n",
              " a historic architectural structure, not a high mountain, but it can serve as an example to illustrate the use of a hyphen in a name.<br></div></span>"
            ]
          },
          "metadata": {}
        }
      ]
    },
    {
      "cell_type": "markdown",
      "source": [
        "In this example, you can see that the model does not perfectly classify mountains with hyphens in the name. To improve the quality of the model, the training and test dataset can be increased, paying attention to the names of mountains with hyphens."
      ],
      "metadata": {
        "id": "6GfCzGn5o-Ls"
      }
    }
  ]
}